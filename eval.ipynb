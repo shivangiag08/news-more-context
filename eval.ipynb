{
 "cells": [
  {
   "cell_type": "code",
   "execution_count": null,
   "metadata": {},
   "outputs": [],
   "source": [
    "!pip install torch"
   ]
  },
  {
   "cell_type": "code",
   "execution_count": null,
   "metadata": {},
   "outputs": [],
   "source": [
    "import torch\n",
    "import torch.nn as nn\n",
    "from torchtext.data import Field, TabularDataset, BucketIterator\n",
    "import nltk\n",
    "from rouge import Rouge\n",
    "import random\n",
    "\n",
    "# Download NLTK resources\n",
    "nltk.download('punkt')\n",
    "\n",
    "# Define fields for input and output sequences\n",
    "article_field = Field(tokenize=nltk.word_tokenize, lower=True, batch_first=False)\n",
    "summary_field = Field(tokenize=nltk.word_tokenize, lower=True, init_token='<sos>', eos_token='<eos>', fix_length=None)\n",
    "\n",
    "fields = [('article', article_field), ('summary', summary_field)]\n",
    "\n",
    "# Load the data from the CSV file\n",
    "dataset = TabularDataset(\n",
    "    path='data_cleaned3.csv',\n",
    "    format='csv',\n",
    "    fields=fields,\n",
    "    skip_header=True\n",
    ")"
   ]
  }
 ],
 "metadata": {
  "kernelspec": {
   "display_name": "Python 3",
   "language": "python",
   "name": "python3"
  },
  "language_info": {
   "name": "python",
   "version": "3.11.3"
  }
 },
 "nbformat": 4,
 "nbformat_minor": 2
}

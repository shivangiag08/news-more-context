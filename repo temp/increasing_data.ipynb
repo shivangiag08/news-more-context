{
 "cells": [
  {
   "cell_type": "code",
   "execution_count": null,
   "metadata": {},
   "outputs": [],
   "source": [
    "import pandas as pd\n",
    "from sklearn.model_selection import train_test_split\n",
    "from sklearn.feature_extraction.text import TfidfVectorizer\n",
    "from sklearn.svm import SVC\n",
    "from sklearn.semi_supervised import SelfTrainingClassifier\n",
    "from sklearn.metrics import accuracy_score, confusion_matrix, classification_report"
   ]
  },
  {
   "cell_type": "code",
   "execution_count": null,
   "metadata": {},
   "outputs": [],
   "source": [
    "# Load the labeled dataset\n",
    "global_news_data = pd.read_csv(r\"C:\\Shivangi\\college\\Sem 4\\MLPR\\project\\news-more-context\\global news data set\\rating.csv\")\n",
    "global_news_data = global_news_data[['article_id', 'title', 'title_sentiment']]\n",
    "\n",
    "# Load the unlabeled dataset\n",
    "bbc_data = pd.read_csv(r\"C:\\Shivangi\\college\\Sem 4\\MLPR\\project\\news-more-context\\bbc_news.csv\")\n",
    "bbc_data['title_sentiment'] = -1  # Mark unlabeled data\n",
    "\n",
    "# Combine the labeled and unlabeled datasets\n",
    "combined_data = pd.concat([global_news_data, bbc_data[['title', 'title_sentiment']]])"
   ]
  },
  {
   "cell_type": "code",
   "execution_count": null,
   "metadata": {},
   "outputs": [],
   "source": [
    "# Vectorize the text data\n",
    "vectorizer = TfidfVectorizer()\n",
    "X_combined = vectorizer.fit_transform(combined_data['title'])\n",
    "y_combined = combined_data['title_sentiment'].values"
   ]
  },
  {
   "cell_type": "code",
   "execution_count": null,
   "metadata": {},
   "outputs": [],
   "source": [
    "# Split only the global_news_data for evaluation (20%)\n",
    "# The split is based on the original size of global_news_data to maintain the 80-20 split accurately\n",
    "train_size = len(global_news_data) - len(bbc_data)\n",
    "X_train_eval, X_test_eval, y_train_eval, y_test_eval = train_test_split(\n",
    "    X_combined[:len(global_news_data)], y_combined[:len(global_news_data)], \n",
    "    train_size=train_size, random_state=42)"
   ]
  },
  {
   "cell_type": "code",
   "execution_count": null,
   "metadata": {},
   "outputs": [],
   "source": [
    "# Initialize the base estimator and the SelfTrainingClassifier\n",
    "base_estimator = SVC(probability=True)\n",
    "self_training_model = SelfTrainingClassifier(base_estimator, threshold=0.7, criterion='threshold')\n",
    "\n",
    "# Train the SelfTrainingClassifier on combined data (80% labeled + unlabeled)\n",
    "self_training_model.fit(X_combined, y_combined)"
   ]
  },
  {
   "cell_type": "code",
   "execution_count": null,
   "metadata": {},
   "outputs": [],
   "source": [
    "# Evaluate the model on the reserved 20% labeled test data\n",
    "predicted_test = self_training_model.predict(X_test_eval)\n",
    "print(\"Evaluation on Test Data:\")\n",
    "print(f\"Accuracy: {accuracy_score(y_test_eval, predicted_test)}\")\n",
    "print(\"Confusion Matrix:\")\n",
    "print(confusion_matrix(y_test_eval, predicted_test))\n",
    "print(\"Classification Report:\")\n",
    "print(classification_report(y_test_eval, predicted_test))"
   ]
  },
  {
   "cell_type": "code",
   "execution_count": 7,
   "metadata": {},
   "outputs": [
    {
     "name": "stdout",
     "output_type": "stream",
     "text": [
      "(47249, 24)\n",
      "Index(['article_id', 'source_id_x', 'source_name_x', 'author_x', 'title_x',\n",
      "       'description_x', 'url_x', 'url_to_image_x', 'published_at_x',\n",
      "       'content_x', 'category_x', 'full_content', 'source_id_y',\n",
      "       'source_name_y', 'author_y', 'title_y', 'description_y', 'url_y',\n",
      "       'url_to_image_y', 'published_at_y', 'content_y', 'category_y',\n",
      "       'article', 'title_sentiment'],\n",
      "      dtype='object')\n",
      "Series([], Name: count, dtype: int64)\n"
     ]
    }
   ],
   "source": [
    "import pandas as pd\n",
    "\n",
    "rating = pd.read_csv(r\"C:\\Shivangi\\college\\Sem 4\\MLPR\\project\\news-more-context\\global news data set\\rating.csv\")\n",
    "data = pd.read_csv(r\"C:\\Shivangi\\college\\Sem 4\\MLPR\\project\\news-more-context\\global news data set\\data.csv\")\n",
    "\n",
    "# create a new data frame with the uncommon rows between the two dataframes\n",
    "# separate on the basis of article_id\n",
    "# i only need the title , source_name and title_sentiment columns\n",
    "\n",
    "new_data = pd.merge(data, rating, on='article_id', how='outer', indicator=True).query('_merge==\"left_only\"').drop('_merge', axis=1)\n",
    "print(new_data.shape)\n",
    "print(new_data.columns)\n",
    "new_data = new_data[['title_x', 'source_name_x', 'title_sentiment']]\n",
    "# rename title_x to title\n",
    "new_data.rename(columns={'title_x': 'title', 'source_name_x':'source_name'}, inplace=True)\n",
    "print(new_data['title_sentiment'].value_counts())\n",
    "new_data.to_csv(r\"C:\\Shivangi\\college\\Sem 4\\MLPR\\project\\news-more-context\\global news data set\\uncommon_data.csv\", index=False)\n",
    "\n",
    "raw_data = "
   ]
  },
  {
   "cell_type": "code",
   "execution_count": null,
   "metadata": {},
   "outputs": [],
   "source": [
    "# extract all positive and negative sentiment data\n",
    "from translate import Translator\n",
    "\n",
    "def back_translate(series, to_lang='de', from_lang='en'):\n",
    "    # Initialize translators\n",
    "    translator_to = Translator(to_lang=to_lang, from_lang=from_lang)\n",
    "    translator_back = Translator(to_lang=from_lang, from_lang=to_lang)\n",
    "\n",
    "    back_translated_series = series.apply(lambda x: translator_back.translate(translator_to.translate(x)))\n",
    "    return back_translated_series\n",
    "\n",
    "# Extract positive and negative sentiment data from rating.csv\n",
    "positive_data = rating[rating['title_sentiment'] == 1]\n",
    "negative_data = rating[rating['title_sentiment'] == 0]\n",
    "\n",
    "# Back translate the positive and negative sentiment data\n",
    "positive_data['title'] = back_translate(positive_data['title'])\n",
    "negative_data['title'] = back_translate(negative_data['title'])\n"
   ]
  }
 ],
 "metadata": {
  "kernelspec": {
   "display_name": "Python 3",
   "language": "python",
   "name": "python3"
  },
  "language_info": {
   "codemirror_mode": {
    "name": "ipython",
    "version": 3
   },
   "file_extension": ".py",
   "mimetype": "text/x-python",
   "name": "python",
   "nbconvert_exporter": "python",
   "pygments_lexer": "ipython3",
   "version": "3.11.5"
  }
 },
 "nbformat": 4,
 "nbformat_minor": 2
}

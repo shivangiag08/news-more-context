{
 "cells": [
  {
   "cell_type": "code",
   "execution_count": 3,
   "metadata": {},
   "outputs": [
    {
     "name": "stdout",
     "output_type": "stream",
     "text": [
      "Index(['article_id', 'source_id', 'source_name', 'author', 'title',\n",
      "       'description', 'url', 'url_to_image', 'published_at', 'content',\n",
      "       'category', 'article', 'title_sentiment'],\n",
      "      dtype='object')\n"
     ]
    }
   ],
   "source": [
    "import pandas as pd\n",
    "\n",
    "global_news_data = pd.read_csv(\"C:\\Shivangi\\college\\Sem 4\\MLPR\\project/news-more-context\\global news data set/rating.csv\")\n",
    "# keep these columns: article_id', 'source_id', 'source_name', 'title','description', 'url', 'published_at', 'category', 'article', 'title_sentiment'\n",
    "global_news_data = global_news_data[['article_id', 'source_id', 'source_name', 'title','description', 'url', 'published_at', 'category', 'article', 'title_sentiment']]"
   ]
  },
  {
   "cell_type": "code",
   "execution_count": 4,
   "metadata": {},
   "outputs": [],
   "source": [
    "# split global news into training and testing data. use sklearn.model_selection.train_test_split\n",
    "from sklearn.model_selection import train_test_split\n",
    "train, test = train_test_split(global_news_data, test_size=0.2)\n",
    "\n",
    "# build a co training classifier\n",
    "from sklearn.semi_supervised import LabelPropagation\n",
    "from sklearn.semi_supervised import LabelSpreading\n",
    "from sklearn.feature_extraction.text import TfidfVectorizer\n",
    "from sklearn.pipeline import make_pipeline\n",
    "\n",
    "# create a pipeline\n",
    "model = make_pipeline(TfidfVectorizer(), LabelSpreading())\n",
    "model.fit(train['article'], train['title_sentiment'])\n",
    "\n",
    "# predict the sentiment of the test data\n",
    "predicted_sentiment = model.predict(test['article'])\n",
    "\n",
    "# calculate the accuracy of the model\n",
    "from sklearn.metrics import accuracy_score, confusion_matrix, classification_report\n",
    "print(accuracy_score(test['title_sentiment'], predicted_sentiment))\n",
    "print(confusion_matrix(test['title_sentiment'], predicted_sentiment))\n",
    "print(classification_report(test['title_sentiment'], predicted_sentiment))"
   ]
  }
 ],
 "metadata": {
  "kernelspec": {
   "display_name": "Python 3",
   "language": "python",
   "name": "python3"
  },
  "language_info": {
   "codemirror_mode": {
    "name": "ipython",
    "version": 3
   },
   "file_extension": ".py",
   "mimetype": "text/x-python",
   "name": "python",
   "nbconvert_exporter": "python",
   "pygments_lexer": "ipython3",
   "version": "3.11.5"
  }
 },
 "nbformat": 4,
 "nbformat_minor": 2
}

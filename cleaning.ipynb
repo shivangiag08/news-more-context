{
 "cells": [
  {
   "cell_type": "code",
   "execution_count": 4,
   "metadata": {},
   "outputs": [],
   "source": [
    "import pandas as pd\n",
    "\n",
    "global_news_data_whole = pd.read_csv(\"C:\\Shivangi\\college\\Sem 4\\MLPR\\project/news-more-context\\global news data set/rating.csv\")\n",
    "# drop the columns that are not required\n",
    "global_news_data_whole = global_news_data_whole[['article_id', 'source_id', 'source_name', 'title','published_at', 'category', 'article', 'title_sentiment']]\n",
    "# create a smaller dataset with 10000 random samples\n",
    "global_news_data = global_news_data_whole.sample(n=20000)"
   ]
  },
  {
   "cell_type": "code",
   "execution_count": null,
   "metadata": {},
   "outputs": [],
   "source": [
    "# split global news into training and testing data. use sklearn.model_selection.train_test_split\n",
    "from sklearn.model_selection import train_test_split\n",
    "train, test = train_test_split(global_news_data, test_size=0.2)\n",
    "print(train.shape)\n",
    "# build a co training classifier\n",
    "from sklearn.semi_supervised import LabelPropagation\n",
    "from sklearn.semi_supervised import LabelSpreading\n",
    "from sklearn.feature_extraction.text import TfidfVectorizer\n",
    "from sklearn.pipeline import make_pipeline\n",
    "\n",
    "# create a pipeline\n",
    "model = make_pipeline(TfidfVectorizer(), LabelSpreading())\n",
    "model.fit(train['article'], train['title_sentiment'])\n",
    "# predict the sentiment of the test data\n",
    "predicted_sentiment = model.predict(test['article'])\n",
    "print(\"predicted sentiment: \", predicted_sentiment.shape)\n",
    "# calculate the accuracy of the model\n",
    "from sklearn.metrics import accuracy_score, confusion_matrix, classification_report\n",
    "print(accuracy_score(test['title_sentiment'], predicted_sentiment))\n",
    "print(confusion_matrix(test['title_sentiment'], predicted_sentiment))\n",
    "print(classification_report(test['title_sentiment'], predicted_sentiment))"
   ]
  },
  {
   "cell_type": "code",
   "execution_count": 5,
   "metadata": {},
   "outputs": [
    {
     "name": "stdout",
     "output_type": "stream",
     "text": [
      "(16000, 8)\n"
     ]
    }
   ],
   "source": [
    "# split global news into training and testing data. use sklearn.model_selection.train_test_split\n",
    "from sklearn.model_selection import train_test_split\n",
    "train, test = train_test_split(global_news_data, test_size=0.2)\n",
    "print(train.shape)\n",
    "# build a co training classifier using SVM and Naive Bayes\n",
    "from sklearn.feature_extraction.text import TfidfVectorizer\n",
    "from sklearn.naive_bayes import MultinomialNB\n",
    "from sklearn.svm import SVC\n",
    "from sklearn.pipeline import make_pipeline\n",
    "from sklearn.metrics import accuracy_score, classification_report, confusion_matrix\n",
    "from sklearn.model_selection import cross_val_score\n",
    "\n",
    "# create a pipeline for Naive Bayes\n",
    "model1 = make_pipeline(TfidfVectorizer(), MultinomialNB())\n",
    "# create a pipeline for SVM\n",
    "model2 = make_pipeline(TfidfVectorizer(), SVC())\n",
    "\n",
    "# train the models\n",
    "model1.fit(train['article'], train['title_sentiment'])\n",
    "model2.fit(train['article'], train['title_sentiment'])\n",
    "\n",
    "# predict the test data\n",
    "pred1 = model1.predict(test['article'])\n",
    "pred2 = model2.predict(test['article'])\n",
    "\n",
    "# print the accuracy of the models\n",
    "print(\"Accuracy of Naive Bayes: \", accuracy_score(test['title_sentiment'], pred1))\n",
    "print(\"Accuracy of SVM: \", accuracy_score(test['title_sentiment'], pred2))\n",
    "\n",
    "# print the classification report\n",
    "print(\"Classification report of Naive Bayes: \", classification_report(test['title_sentiment'], pred1))\n",
    "print(\"Classification report of SVM: \", classification_report(test['title_sentiment'], pred2))\n",
    "\n",
    "# print the confusion matrix\n",
    "print(\"Confusion matrix of Naive Bayes: \", confusion_matrix(test['title_sentiment'], pred1))\n",
    "print(\"Confusion matrix of SVM: \", confusion_matrix(test['title_sentiment'], pred2))\n",
    "\n",
    "# cross validation\n",
    "print(\"Cross validation of Naive Bayes: \", cross_val_score(model1, test['article'], test['title_sentiment'], cv=10))\n",
    "print(\"Cross validation of SVM: \", cross_val_score(model2, test['article'], test['title_sentiment'], cv=10))\n",
    "\n"
   ]
  },
  {
   "cell_type": "code",
   "execution_count": null,
   "metadata": {},
   "outputs": [],
   "source": []
  }
 ],
 "metadata": {
  "kernelspec": {
   "display_name": "Python 3",
   "language": "python",
   "name": "python3"
  },
  "language_info": {
   "codemirror_mode": {
    "name": "ipython",
    "version": 3
   },
   "file_extension": ".py",
   "mimetype": "text/x-python",
   "name": "python",
   "nbconvert_exporter": "python",
   "pygments_lexer": "ipython3",
   "version": "3.11.5"
  }
 },
 "nbformat": 4,
 "nbformat_minor": 2
}
